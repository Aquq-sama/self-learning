{
 "cells": [
  {
   "cell_type": "code",
   "execution_count": 2,
   "id": "8b953904",
   "metadata": {},
   "outputs": [],
   "source": [
    "import numpy as np"
   ]
  },
  {
   "cell_type": "markdown",
   "id": "b28e149e",
   "metadata": {},
   "source": [
    "## 矩陣"
   ]
  },
  {
   "cell_type": "code",
   "execution_count": 3,
   "id": "d435b15d",
   "metadata": {},
   "outputs": [
    {
     "name": "stdout",
     "output_type": "stream",
     "text": [
      "[[1 2]\n",
      " [3 4]] \n",
      "\n",
      "[[1 0]\n",
      " [0 1]] \n",
      "\n",
      "[[1 2]\n",
      " [3 4]] \n",
      "\n",
      "[[ 7 10]\n",
      " [15 22]] \n",
      "\n",
      "[[-2.   1. ]\n",
      " [ 1.5 -0.5]] \n",
      "\n",
      "[[1 3]\n",
      " [2 4]] \n",
      "\n"
     ]
    }
   ],
   "source": [
    "m1=np.mat('1 2;3 4')\n",
    "m2=np.mat('1 0;0 1') #identity matrix，任何矩陣乘以其後維持原樣\n",
    "m3=m1*m2 #也可以寫成np.dot(m1,m2)\n",
    "m4=m1*m1 #也可以寫成m1**2\n",
    "m5=np.linalg.inv(m1) #反矩陣\n",
    "m6=np.matrix.transpose(m1) #行列互換\n",
    "a1=np.asarray(m1) #矩陣轉陣列\n",
    "print(m1,'\\n')\n",
    "print(m2,'\\n')\n",
    "print(m3,'\\n')\n",
    "print(m4,'\\n')\n",
    "print(m5,'\\n')\n",
    "print(m6,'\\n')"
   ]
  },
  {
   "cell_type": "markdown",
   "id": "ad7de06d",
   "metadata": {},
   "source": [
    "## 陣列"
   ]
  },
  {
   "cell_type": "code",
   "execution_count": 4,
   "id": "49c6acd9",
   "metadata": {},
   "outputs": [
    {
     "name": "stdout",
     "output_type": "stream",
     "text": [
      "[[1 2]\n",
      " [3 4]] \n",
      "\n",
      "[[1 0]\n",
      " [0 1]] \n",
      "\n",
      "[[1 0]\n",
      " [0 4]] \n",
      "\n",
      "[[ 1  4]\n",
      " [ 9 16]] \n",
      "\n"
     ]
    }
   ],
   "source": [
    "a1=np.array([[1,2],[3,4]])\n",
    "a2=np.array([[1,0],[0,1]])\n",
    "a3=a1*a2 #如果寫成np.dot(a1,a2)，會以矩陣方法相乘\n",
    "a4=a1*a1 #也可以寫成a1**2\n",
    "m1=np.asmatrix(a1) #陣列轉矩陣\n",
    "print(a1,'\\n')\n",
    "print(a2,'\\n')\n",
    "print(a3,'\\n')\n",
    "print(a4,'\\n')"
   ]
  },
  {
   "cell_type": "code",
   "execution_count": null,
   "id": "8313b88f",
   "metadata": {},
   "outputs": [],
   "source": []
  }
 ],
 "metadata": {
  "kernelspec": {
   "display_name": "Python 3",
   "language": "python",
   "name": "python3"
  },
  "language_info": {
   "codemirror_mode": {
    "name": "ipython",
    "version": 3
   },
   "file_extension": ".py",
   "mimetype": "text/x-python",
   "name": "python",
   "nbconvert_exporter": "python",
   "pygments_lexer": "ipython3",
   "version": "3.8.8"
  }
 },
 "nbformat": 4,
 "nbformat_minor": 5
}
